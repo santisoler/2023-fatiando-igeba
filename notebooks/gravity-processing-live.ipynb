{
 "cells": [
  {
   "cell_type": "markdown",
   "id": "c0ec4617-f64d-44df-92c4-05b617a6e635",
   "metadata": {},
   "source": [
    "# Procesamiento de datos de gravedad"
   ]
  },
  {
   "cell_type": "markdown",
   "id": "522b9cb9-39d5-45a5-8081-2b67818e9d06",
   "metadata": {
    "tags": []
   },
   "source": [
    "Importamos librerías que vamos a utilizar"
   ]
  },
  {
   "cell_type": "code",
   "execution_count": null,
   "id": "d4f90298-1233-4bb3-b9ab-cfeab59ab975",
   "metadata": {
    "tags": []
   },
   "outputs": [],
   "source": [
    "import pathlib\n",
    "import numpy as np\n",
    "import pandas as pd\n",
    "import xarray as xr\n",
    "import pyproj\n",
    "import pygmt\n",
    "import pyvista as pv\n",
    "\n",
    "import ensaio\n",
    "import verde as vd\n",
    "import boule as bl\n",
    "import harmonica as hm"
   ]
  },
  {
   "cell_type": "markdown",
   "id": "0a9a8f75-1add-4553-a513-b956ba269a2d",
   "metadata": {},
   "source": [
    "## Descargamos datos de gravedad"
   ]
  },
  {
   "cell_type": "code",
   "execution_count": null,
   "id": "efb6ba35-6477-452a-bbce-46b267bc2b23",
   "metadata": {
    "tags": []
   },
   "outputs": [],
   "source": []
  },
  {
   "cell_type": "code",
   "execution_count": null,
   "id": "7c29fa66-37c0-4778-80fb-19b3f9c8c039",
   "metadata": {
    "tags": []
   },
   "outputs": [],
   "source": [
    "raw_data = pd.read_csv(fname_gravity)\n",
    "raw_data"
   ]
  },
  {
   "cell_type": "code",
   "execution_count": null,
   "id": "1fef1fd9-d518-4e16-880d-9ff36d3894bc",
   "metadata": {
    "tags": []
   },
   "outputs": [],
   "source": [
    "fig = pygmt.Figure()\n",
    "gmt_projection = \"M12c\"\n",
    "\n",
    "raw_region = vd.get_region((raw_data.longitude, raw_data.latitude))\n",
    "\n",
    "pygmt.makecpt(cmap=\"gray\")\n",
    "fig.grdimage(\n",
    "    \"@earth_relief_01m\",\n",
    "    region=raw_region,\n",
    "    projection=gmt_projection,\n",
    "    shading=\"+a45+nt0.7\",\n",
    "    cmap=True,\n",
    ")\n",
    "fig.coast(\n",
    "    water=\"#8fcae7\",\n",
    "    transparency=50,\n",
    ")\n",
    "pygmt.makecpt(\n",
    "    cmap=\"viridis\",\n",
    "    series=[raw_data.gravity_mgal.min(), raw_data.gravity_mgal.max()],\n",
    ")\n",
    "fig.plot(\n",
    "    x=raw_data.longitude,\n",
    "    y=raw_data.latitude,\n",
    "    fill=raw_data.gravity_mgal,\n",
    "    cmap=True,\n",
    "    style=\"c2p\",\n",
    "    projection=gmt_projection,\n",
    "    frame=\"af\",\n",
    ")\n",
    "fig.colorbar(frame='af+l\"mGal\"')\n",
    "fig.show()"
   ]
  },
  {
   "cell_type": "markdown",
   "id": "e89658d0-7732-413b-bb9d-2a7de73844ac",
   "metadata": {},
   "source": [
    "## Recortamos los datos al complejo igneo de Bushveld"
   ]
  },
  {
   "cell_type": "code",
   "execution_count": null,
   "id": "294ddccd-2708-47ce-8fd9-55487411bd22",
   "metadata": {
    "tags": []
   },
   "outputs": [],
   "source": [
    "region = (25, 32, -27, -23)"
   ]
  },
  {
   "cell_type": "code",
   "execution_count": null,
   "id": "c47679c7-0089-4f19-9a83-59d852a1c906",
   "metadata": {
    "tags": []
   },
   "outputs": [],
   "source": [
    "inside = vd.inside((raw_data.longitude, raw_data.latitude), region)\n",
    "data = raw_data[inside]"
   ]
  },
  {
   "cell_type": "code",
   "execution_count": null,
   "id": "5046fb2f-db1a-482c-84e2-3ef55f5297d8",
   "metadata": {
    "tags": []
   },
   "outputs": [],
   "source": [
    "def plot_scatter(longitude, latitude, values, center=False, cmap=\"viridis\", label=None):\n",
    "    \"\"\"Plot scatter points using PyGMT\"\"\"\n",
    "    fig = pygmt.Figure()\n",
    "    gmt_projection = \"M12c\"\n",
    "    region = vd.get_region((longitude, latitude))\n",
    "    \n",
    "    pygmt.makecpt(cmap=\"gray\")\n",
    "    fig.grdimage(\n",
    "        \"@earth_relief_01m\",\n",
    "        region=region,\n",
    "        projection=gmt_projection,\n",
    "        shading=\"+a45+nt0.7\",\n",
    "        cmap=True,\n",
    "    )\n",
    "    if center:\n",
    "        maxabs = vd.maxabs(values)\n",
    "        series = [-maxabs, maxabs] \n",
    "    else:\n",
    "        series=[np.nanmin(values), np.nanmax(values)]\n",
    "        \n",
    "    pygmt.makecpt(cmap=cmap, series=series)\n",
    "    fig.plot(\n",
    "        x=longitude,\n",
    "        y=latitude,\n",
    "        fill=values,\n",
    "        cmap=True,\n",
    "        style=\"c3p\",\n",
    "        projection=gmt_projection,\n",
    "        frame=\"af\",\n",
    "    )\n",
    "    frame = \"af\"\n",
    "    if label is not None:\n",
    "        frame += f'+l\"{label}\"'\n",
    "    fig.colorbar(frame=frame)\n",
    "    fig.show()"
   ]
  },
  {
   "cell_type": "code",
   "execution_count": null,
   "id": "8cae3700-b184-489f-9b9d-8c43e6c1662a",
   "metadata": {
    "tags": []
   },
   "outputs": [],
   "source": [
    "plot_scatter(data.longitude, data.latitude, data.gravity_mgal, label=\"gravity [mgal]\")"
   ]
  },
  {
   "cell_type": "markdown",
   "id": "d188d013-4cd5-4408-a9f5-cc736c8d9235",
   "metadata": {},
   "source": [
    "## Gravity disturbance (disturbio de gravedad)"
   ]
  },
  {
   "cell_type": "code",
   "execution_count": null,
   "id": "1e57fcc5-e68e-48f0-b192-32e7e176b675",
   "metadata": {
    "tags": []
   },
   "outputs": [],
   "source": []
  },
  {
   "cell_type": "code",
   "execution_count": null,
   "id": "0101ceec-36c4-49bb-a0f0-b978d5c65e4b",
   "metadata": {
    "tags": []
   },
   "outputs": [],
   "source": []
  },
  {
   "cell_type": "code",
   "execution_count": null,
   "id": "4a22bf77-3489-46ef-9786-1764c52cf6ed",
   "metadata": {
    "tags": []
   },
   "outputs": [],
   "source": [
    "data = data.assign(disturbance=disturbance)\n",
    "data"
   ]
  },
  {
   "cell_type": "code",
   "execution_count": null,
   "id": "820238b7-8392-469f-99b1-f21949cef215",
   "metadata": {
    "tags": []
   },
   "outputs": [],
   "source": [
    "plot_scatter(\n",
    "    data.longitude,\n",
    "    data.latitude,\n",
    "    data.disturbance,\n",
    "    cmap=\"polar\",\n",
    "    center=True,\n",
    "    label=\"gravity disturbance [mgal]\"\n",
    ")"
   ]
  },
  {
   "cell_type": "markdown",
   "id": "0fa9fef7-65ec-4acf-a28a-db549215843b",
   "metadata": {},
   "source": [
    "## Efecto topografico"
   ]
  },
  {
   "cell_type": "markdown",
   "id": "6040c892-536a-42d1-991b-64428f5fc0e4",
   "metadata": {},
   "source": [
    "Descargamos una grilla de topografia"
   ]
  },
  {
   "cell_type": "code",
   "execution_count": null,
   "id": "fbb9e188-24e4-4408-b67d-2bbe5159ff6d",
   "metadata": {
    "tags": []
   },
   "outputs": [],
   "source": [
    "topo_fname = ensaio.fetch_earth_topography(version=1)"
   ]
  },
  {
   "cell_type": "code",
   "execution_count": null,
   "id": "da8756ee-8442-49c9-bf77-fc0b861a16f5",
   "metadata": {
    "tags": []
   },
   "outputs": [],
   "source": [
    "topography = xr.load_dataarray(topo_fname)\n",
    "topography"
   ]
  },
  {
   "cell_type": "markdown",
   "id": "c9e6287b-09f3-4111-84b1-07638c419f2c",
   "metadata": {},
   "source": [
    "La recortamos alrededor de la zona de estudio"
   ]
  },
  {
   "cell_type": "code",
   "execution_count": null,
   "id": "e6ef31d1-67c1-4b6f-bcdc-77de530a7406",
   "metadata": {
    "tags": []
   },
   "outputs": [],
   "source": [
    "region_pad = vd.pad_region(region, pad=2)\n",
    "topography = topography.sel(longitude=slice(*region_pad[:2]), latitude=slice(*region_pad[2:]))\n",
    "topography"
   ]
  },
  {
   "cell_type": "code",
   "execution_count": null,
   "id": "ece95b6c-679f-426e-827b-a31b80f1ef5f",
   "metadata": {
    "tags": []
   },
   "outputs": [],
   "source": [
    "fig = pygmt.Figure()\n",
    "gmt_projection = \"M12c\"\n",
    "fig.grdimage(topography, projection=gmt_projection, cmap=\"etopo1\", frame=True)\n",
    "fig.colorbar(frame='af+l\"topografia [m]\"')\n",
    "\n",
    "maxabs = vd.maxabs(data.disturbance)\n",
    "pygmt.makecpt(cmap=\"polar\", series=[-maxabs, maxabs])\n",
    "fig.plot(\n",
    "    x=data.longitude,\n",
    "    y=data.latitude,\n",
    "    fill=data.disturbance,\n",
    "    cmap=True,\n",
    "    style=\"c2p\",\n",
    "    projection=gmt_projection,\n",
    "    frame=\"af\",\n",
    ")\n",
    "fig.show()"
   ]
  },
  {
   "cell_type": "markdown",
   "id": "3afb68fc-df9c-4459-b90a-edd2cf3427d4",
   "metadata": {},
   "source": [
    "Proyectamos la grilla a coordenadas planas"
   ]
  },
  {
   "cell_type": "code",
   "execution_count": null,
   "id": "5b41480c-6c04-423d-8763-bd4a605a8b9b",
   "metadata": {
    "tags": []
   },
   "outputs": [],
   "source": [
    "projection = pyproj.Proj(proj=\"merc\", lat_ts=data.latitude.mean())"
   ]
  },
  {
   "cell_type": "code",
   "execution_count": null,
   "id": "6730366d-f3dd-461a-a348-9b4794e68704",
   "metadata": {
    "tags": []
   },
   "outputs": [],
   "source": []
  },
  {
   "cell_type": "code",
   "execution_count": null,
   "id": "ced2d11e-155a-4bc0-a7cb-83f09bb63c14",
   "metadata": {
    "tags": []
   },
   "outputs": [],
   "source": [
    "data = data.assign(easting=easting, northing=northing)\n",
    "data"
   ]
  },
  {
   "cell_type": "code",
   "execution_count": null,
   "id": "78dfc2c9-1acf-465a-899b-6ba0222e7297",
   "metadata": {
    "tags": []
   },
   "outputs": [],
   "source": [
    "\n",
    "topo_proj"
   ]
  },
  {
   "cell_type": "markdown",
   "id": "539ab6fb-8dd6-4a3c-a850-d137eef27dee",
   "metadata": {},
   "source": [
    "Creamos un modelo de topografia con prismas rectangulares"
   ]
  },
  {
   "cell_type": "code",
   "execution_count": null,
   "id": "6eff702c-ed88-4e5e-b745-f76bf609baac",
   "metadata": {
    "tags": []
   },
   "outputs": [],
   "source": [
    "density = np.where(topo_proj < 0, 1040 - 2670, 2670)\n",
    "\n",
    "prisms = hm.prism_layer(\n",
    "    (topo_proj.easting, topo_proj.northing),\n",
    "    reference=0,\n",
    "    surface=topo_proj,\n",
    "    properties={\"density\": density},\n",
    ")\n",
    "prisms"
   ]
  },
  {
   "cell_type": "markdown",
   "id": "6ccc8c20-2d59-4dd2-8cdc-54f970576d4a",
   "metadata": {},
   "source": [
    "Ploteo 3D"
   ]
  },
  {
   "cell_type": "code",
   "execution_count": null,
   "id": "cf59377b-0bf7-43f4-94fe-f097c8c7ad2d",
   "metadata": {
    "tags": []
   },
   "outputs": [],
   "source": [
    "pv_grid = prisms.prism_layer.to_pyvista()\n",
    "pv_grid[\"elevation\"] = topo_proj.values.ravel()\n",
    "pv_grid"
   ]
  },
  {
   "cell_type": "code",
   "execution_count": null,
   "id": "03a29b84-92c8-40e6-9ea7-b7b11690144f",
   "metadata": {
    "tags": []
   },
   "outputs": [],
   "source": [
    "plotter = pv.Plotter(lighting=\"three_lights\", window_size=(1080 * 16 // 8, 1080), notebook=True)\n",
    "plotter.add_mesh(pv_grid, scalars=\"elevation\", cmap=\"terrain\", show_scalar_bar=False)\n",
    "plotter.set_scale(zscale=75)  # exaggerate the vertical coordinate\n",
    "\n",
    "plotter.camera_position = \"xz\"\n",
    "plotter.camera.elevation = 20\n",
    "plotter.camera.azimuth = 125\n",
    "plotter.camera.zoom(1.7)\n",
    "\n",
    "plotter.show_axes()\n",
    "plotter.show()"
   ]
  },
  {
   "cell_type": "markdown",
   "id": "3a76ddc8-100c-4178-8ff3-c127c55f4e3d",
   "metadata": {},
   "source": [
    "Calculamos el efecto topografico en cada punto de observación"
   ]
  },
  {
   "cell_type": "code",
   "execution_count": null,
   "id": "99fec2ee-1861-43bc-9b80-1da353608e0f",
   "metadata": {
    "tags": []
   },
   "outputs": [],
   "source": [
    "coordinates = (data.easting, data.northing, data.height_sea_level_m)\n",
    "topo_effect = "
   ]
  },
  {
   "cell_type": "code",
   "execution_count": null,
   "id": "c88420ba-0a9b-47b3-93b8-c81b843b214c",
   "metadata": {
    "tags": []
   },
   "outputs": [],
   "source": []
  },
  {
   "cell_type": "code",
   "execution_count": null,
   "id": "78930c3c-a810-4586-a097-844f1f0d6b75",
   "metadata": {
    "tags": []
   },
   "outputs": [],
   "source": [
    "data = data.assign(bouguer=bouguer)\n",
    "data"
   ]
  },
  {
   "cell_type": "code",
   "execution_count": null,
   "id": "99d35b3c-582f-4bed-b5ec-0a8a9bbd3280",
   "metadata": {
    "tags": []
   },
   "outputs": [],
   "source": [
    "plot_scatter(\n",
    "    data.longitude,\n",
    "    data.latitude,\n",
    "    data.bouguer,\n",
    "    cmap=\"polar\",\n",
    "    center=True,\n",
    "    label=\"Bouguer disturbance [mgal]\",\n",
    ")"
   ]
  },
  {
   "cell_type": "markdown",
   "id": "194c435c-b287-4709-be42-098b3a6ff1aa",
   "metadata": {},
   "source": [
    "## Calcular la gravedad residual"
   ]
  },
  {
   "cell_type": "markdown",
   "id": "c5faa25e-217a-41c6-ad40-53c150c089f9",
   "metadata": {},
   "source": [
    "Usamos fuentes equivalentes profundas para calcular el campo regional de gravedad."
   ]
  },
  {
   "cell_type": "code",
   "execution_count": null,
   "id": "5993b24d-1665-4245-8822-4d66cdff9070",
   "metadata": {
    "tags": []
   },
   "outputs": [],
   "source": [
    "deep_sources = hm.EquivalentSources(depth=500e3, damping=1000)\n",
    "deep_sources.fit(coordinates, data.bouguer)"
   ]
  },
  {
   "cell_type": "code",
   "execution_count": null,
   "id": "516014cf-7fc2-465d-91c8-f56d5a468d0b",
   "metadata": {
    "tags": []
   },
   "outputs": [],
   "source": [
    "regional = deep_sources.predict(coordinates)"
   ]
  },
  {
   "cell_type": "code",
   "execution_count": null,
   "id": "1178b438-ced3-487c-81dd-5428035c5e92",
   "metadata": {
    "tags": []
   },
   "outputs": [],
   "source": [
    "plot_scatter(\n",
    "    data.longitude,\n",
    "    data.latitude,\n",
    "    regional,\n",
    "    cmap=\"viridis\",\n",
    "    label=\"regional [mgal]\",\n",
    ")"
   ]
  },
  {
   "cell_type": "markdown",
   "id": "a85305fc-d253-40ce-a60c-bd6ae9da5600",
   "metadata": {},
   "source": [
    "Calculamos residual como la diferencia entre Bouguer y la regional."
   ]
  },
  {
   "cell_type": "code",
   "execution_count": null,
   "id": "52510cb7-69a7-4a06-9268-b1e1bb6182a8",
   "metadata": {
    "tags": []
   },
   "outputs": [],
   "source": []
  },
  {
   "cell_type": "code",
   "execution_count": null,
   "id": "4a0c1f1b-15ff-4192-8b91-95568341c578",
   "metadata": {
    "tags": []
   },
   "outputs": [],
   "source": [
    "data = data.assign(residual=residual)\n",
    "data"
   ]
  },
  {
   "cell_type": "code",
   "execution_count": null,
   "id": "da6b20a3-5395-427d-afd1-7bb1c45925a5",
   "metadata": {
    "tags": []
   },
   "outputs": [],
   "source": [
    "plot_scatter(\n",
    "    data.longitude,\n",
    "    data.latitude,\n",
    "    data.residual,\n",
    "    cmap=\"polar\",\n",
    "    center=True,\n",
    "    label=\"Residual [mgal]\",\n",
    ")"
   ]
  },
  {
   "cell_type": "markdown",
   "id": "8ebaef75-eb65-4d8d-9f63-5a4e19c26403",
   "metadata": {},
   "source": [
    "## Grillado con fuentes equivalentes"
   ]
  },
  {
   "cell_type": "markdown",
   "id": "42b21f95-d72a-417f-bbc3-a70ee1df53a3",
   "metadata": {},
   "source": [
    "Definimos fuentes equivalentes someras para grillar la gravedad residual"
   ]
  },
  {
   "cell_type": "code",
   "execution_count": null,
   "id": "bfc7005f-1d9a-4ccf-abf7-dba778ef4b16",
   "metadata": {
    "tags": []
   },
   "outputs": [],
   "source": [
    "eq_sources = hm.EquivalentSources(depth=10e3, damping=10)\n",
    "eq_sources.fit(coordinates, data.residual)"
   ]
  },
  {
   "cell_type": "code",
   "execution_count": null,
   "id": "6107803b-082c-42e2-8961-72178a423aaa",
   "metadata": {
    "tags": []
   },
   "outputs": [],
   "source": [
    "grid_coords = vd.grid_coordinates(region=region, spacing=0.01, extra_coords=2200)\n",
    "grid = eq_sources.grid(\n",
    "    coordinates=grid_coords,\n",
    "    projection=projection,\n",
    "    dims=(\"latitude\", \"longitude\"),\n",
    "    data_names=\"residual_gravity\",\n",
    ")\n",
    "grid"
   ]
  },
  {
   "cell_type": "code",
   "execution_count": null,
   "id": "fbf26593-a844-4ce8-842a-dd68a094c17b",
   "metadata": {
    "tags": []
   },
   "outputs": [],
   "source": [
    "fig = pygmt.Figure()\n",
    "gmt_projection = \"M15c\"\n",
    "\n",
    "pygmt.makecpt(cmap=\"gray\")\n",
    "fig.grdimage(\n",
    "    \"@earth_relief_01m\",\n",
    "    region=region,\n",
    "    projection=gmt_projection,\n",
    "    shading=\"+a45+nt0.7\",\n",
    "    cmap=True,\n",
    ")\n",
    "\n",
    "maxabs = vd.maxabs(grid.residual_gravity)\n",
    "pygmt.makecpt(cmap=\"polar\", series=[-maxabs, maxabs], no_bg=True)\n",
    "fig.grdimage(\n",
    "    grid.residual_gravity,\n",
    "    shading=\"+a45+nt0.15\",\n",
    "    projection=gmt_projection,\n",
    "    frame=True,\n",
    "    nan_transparent=True,\n",
    "    transparency=10,\n",
    ")\n",
    "fig.colorbar(frame='af+l\"residual field [mGal]\"')\n",
    "fig.plot(\n",
    "    x=data.longitude,\n",
    "    y=data.latitude,\n",
    "    style=\"c0.02c\",\n",
    "    fill=\"black\",\n",
    ")\n",
    "fig.show()"
   ]
  },
  {
   "cell_type": "code",
   "execution_count": null,
   "id": "bcbbe537-1840-4f8d-b694-ca1a31dd3db4",
   "metadata": {
    "tags": []
   },
   "outputs": [],
   "source": [
    "grid = vd.convexhull_mask(\n",
    "    (data.longitude, data.latitude), grid=grid\n",
    ")\n",
    "grid"
   ]
  },
  {
   "cell_type": "code",
   "execution_count": null,
   "id": "dfc89a66-510c-43b0-979c-fa629d4ce01d",
   "metadata": {
    "tags": []
   },
   "outputs": [],
   "source": [
    "fig = pygmt.Figure()\n",
    "gmt_projection = \"M15c\"\n",
    "\n",
    "pygmt.makecpt(cmap=\"gray\")\n",
    "fig.grdimage(\n",
    "    \"@earth_relief_01m\",\n",
    "    region=region,\n",
    "    projection=gmt_projection,\n",
    "    shading=\"+a45+nt0.7\",\n",
    "    cmap=True,\n",
    ")\n",
    "\n",
    "maxabs = vd.maxabs(grid.residual_gravity)\n",
    "pygmt.makecpt(cmap=\"polar\", series=[-maxabs, maxabs], no_bg=True)\n",
    "fig.grdimage(\n",
    "    grid.residual_gravity,\n",
    "    shading=\"+a45+nt0.15\",\n",
    "    projection=gmt_projection,\n",
    "    frame=True,\n",
    "    nan_transparent=True,\n",
    "    transparency=10,\n",
    ")\n",
    "fig.colorbar(frame='af+l\"residual field [mGal]\"')\n",
    "fig.plot(\n",
    "    x=data.longitude,\n",
    "    y=data.latitude,\n",
    "    style=\"c0.02c\",\n",
    "    fill=\"black\",\n",
    ")\n",
    "fig.show()"
   ]
  },
  {
   "cell_type": "markdown",
   "id": "ecc7ee62-250b-4870-96fb-5a0dea412d53",
   "metadata": {
    "tags": []
   },
   "source": [
    "<img src=\"../images/bushveld_igneous_complex_geology.jpg\" style=\"width: 50%\">"
   ]
  }
 ],
 "metadata": {
  "kernelspec": {
   "display_name": "Python [conda env:2023-fatiando-igeba]",
   "language": "python",
   "name": "conda-env-2023-fatiando-igeba-py"
  },
  "language_info": {
   "codemirror_mode": {
    "name": "ipython",
    "version": 3
   },
   "file_extension": ".py",
   "mimetype": "text/x-python",
   "name": "python",
   "nbconvert_exporter": "python",
   "pygments_lexer": "ipython3",
   "version": "3.9.0"
  }
 },
 "nbformat": 4,
 "nbformat_minor": 5
}
