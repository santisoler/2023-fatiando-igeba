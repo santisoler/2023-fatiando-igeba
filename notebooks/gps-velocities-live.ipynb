{
 "cells": [
  {
   "cell_type": "markdown",
   "id": "4a9a91e9-a7d2-4e07-a4cb-5f0f068c5c09",
   "metadata": {},
   "source": [
    "# Interpolacion de datos espaciales con Verde"
   ]
  },
  {
   "cell_type": "markdown",
   "id": "30f1cd1b-5c86-4b6e-8995-010861ca69f4",
   "metadata": {},
   "source": [
    "Importamos librerías necesarias"
   ]
  },
  {
   "cell_type": "code",
   "execution_count": null,
   "id": "1f28a872-caa2-484b-b875-f6fa9c3f2ba9",
   "metadata": {
    "tags": []
   },
   "outputs": [],
   "source": [
    "import pyproj\n",
    "import pygmt\n",
    "import numpy as np\n",
    "import pandas as pd\n",
    "import matplotlib.pyplot as plt\n",
    " \n",
    "import ensaio\n",
    "import verde as vd"
   ]
  },
  {
   "cell_type": "markdown",
   "id": "492f034c-164b-4431-a434-080778049f41",
   "metadata": {},
   "source": [
    "## Descarga de datos de gps"
   ]
  },
  {
   "cell_type": "code",
   "execution_count": null,
   "id": "dd89cac0-a88b-4adc-84f4-5e1ffe1eadfa",
   "metadata": {
    "tags": []
   },
   "outputs": [],
   "source": []
  },
  {
   "cell_type": "code",
   "execution_count": null,
   "id": "37f5f565-cc12-47d7-91a0-b71ddd7fd9b3",
   "metadata": {
    "tags": []
   },
   "outputs": [],
   "source": [
    "data = pd.read_csv(fname)\n",
    "data"
   ]
  },
  {
   "cell_type": "code",
   "execution_count": null,
   "id": "5aa51a6d-dca9-466b-bf7a-e276a88b3d46",
   "metadata": {
    "tags": []
   },
   "outputs": [],
   "source": [
    "def plot_geographic_scatter(longitude, latitude, data, title=None, style=\"c0.2c\"):\n",
    "    \"\"\"Plot geographic data using mercator projection\"\"\"\n",
    "    fig = pygmt.Figure()\n",
    "    fig.basemap(\n",
    "        region=[\n",
    "            longitude.min(),\n",
    "            longitude.max(),\n",
    "            latitude.min(),\n",
    "            latitude.max(),\n",
    "        ],\n",
    "        projection=\"M15c\",\n",
    "        frame=True,\n",
    "    )\n",
    "    fig.coast(land=\"#666666\", water=\"#b4c8ca\")\n",
    "    pygmt.makecpt(cmap=\"polar\", series=[data.min(), data.max()])\n",
    "    fig.plot(\n",
    "        x=longitude, y=latitude, fill=data, cmap=True, style=style\n",
    "    )\n",
    "    frame = 'af'\n",
    "    if title is not None:\n",
    "        frame += f'+l\"{title}\"'\n",
    "    fig.colorbar(frame=frame)\n",
    "    fig.show()"
   ]
  },
  {
   "cell_type": "code",
   "execution_count": null,
   "id": "2af6e620-0f8e-4f9f-8baf-ea5f1624bfdd",
   "metadata": {
    "tags": []
   },
   "outputs": [],
   "source": [
    "plot_geographic_scatter(data.longitude, data.latitude, data.velocity_up_mmyr, title=\"mm/yr\")"
   ]
  },
  {
   "cell_type": "markdown",
   "id": "b1df6bb6-6a3d-4072-81c7-4d197c363875",
   "metadata": {},
   "source": [
    "## Proyección de los datos a coordenadas planas"
   ]
  },
  {
   "cell_type": "code",
   "execution_count": null,
   "id": "1d6cb723-4278-43a6-9f40-6f1470cab169",
   "metadata": {
    "tags": []
   },
   "outputs": [],
   "source": [
    "projection = "
   ]
  },
  {
   "cell_type": "code",
   "execution_count": null,
   "id": "7e691a05-0d5a-43b9-a993-7d642a7eb9f8",
   "metadata": {
    "tags": []
   },
   "outputs": [],
   "source": []
  },
  {
   "cell_type": "code",
   "execution_count": null,
   "id": "f798db3d-61be-437a-92af-eb807af37068",
   "metadata": {
    "tags": []
   },
   "outputs": [],
   "source": [
    "data[\"easting\"] = easting\n",
    "data[\"northing\"] = northing\n",
    "data"
   ]
  },
  {
   "cell_type": "markdown",
   "id": "0c6a8216-0075-4762-abb3-0f2af543d7bd",
   "metadata": {},
   "source": [
    "## Interpolación con Verde"
   ]
  },
  {
   "cell_type": "code",
   "execution_count": null,
   "id": "8fd14e21-48f0-4b39-a7f4-d23aa0aec3dd",
   "metadata": {
    "tags": []
   },
   "outputs": [],
   "source": []
  },
  {
   "cell_type": "code",
   "execution_count": null,
   "id": "65075947-8945-4d4b-b750-125b3c610f2b",
   "metadata": {
    "tags": []
   },
   "outputs": [],
   "source": [
    "region = vd.get_region((data.longitude, data.latitude))"
   ]
  },
  {
   "cell_type": "code",
   "execution_count": null,
   "id": "830db097-cef9-415f-9424-34cd8c9f5ba1",
   "metadata": {
    "tags": []
   },
   "outputs": [],
   "source": [
    "grid = spline.grid(\n",
    "    region=region,\n",
    "    spacing=0.1,\n",
    "    projection=projection,\n",
    "    data_names=\"velocity_up_mmyr\",\n",
    "    dims=(\"latitude\", \"longitude\"),\n",
    ")\n",
    "grid"
   ]
  },
  {
   "cell_type": "code",
   "execution_count": null,
   "id": "a1d5ad2a-5635-4751-b51e-1e3ed2a65041",
   "metadata": {
    "tags": []
   },
   "outputs": [],
   "source": [
    "fig = pygmt.Figure()\n",
    "gmt_projection = \"M15c\"\n",
    "\n",
    "fig.basemap(\n",
    "    region=[\n",
    "        grid.longitude.values.min(),\n",
    "        grid.longitude.values.max(),\n",
    "        grid.latitude.values.min(),\n",
    "        grid.latitude.values.max(),\n",
    "    ],\n",
    "    projection=gmt_projection,\n",
    "    frame=True,\n",
    ")\n",
    "fig.coast(land=\"#666666\", water=\"#b4c8ca\")\n",
    "\n",
    "maxabs = vd.maxabs(grid.velocity_up_mmyr)\n",
    "pygmt.makecpt(cmap=\"polar\", series=[-maxabs, maxabs], no_bg=True)\n",
    "fig.grdimage(\n",
    "    grid=grid.velocity_up_mmyr,\n",
    "    cmap=True,\n",
    "    projection=gmt_projection,\n",
    "    nan_transparent=True,\n",
    "    transparency=15,\n",
    ")\n",
    "\n",
    "frame = 'af+l\"Velocity up [mm/yr]\"'\n",
    "fig.colorbar(frame=frame)\n",
    "fig.show()"
   ]
  },
  {
   "cell_type": "code",
   "execution_count": null,
   "id": "33c6a7aa-7f3d-4ef0-a3af-fb26593693bf",
   "metadata": {
    "tags": []
   },
   "outputs": [],
   "source": [
    "grid = vd.convexhull_mask(data_coordinates=(data.longitude, data.latitude), grid=grid)\n",
    "grid"
   ]
  },
  {
   "cell_type": "code",
   "execution_count": null,
   "id": "7eb2978c-8462-4d3f-950c-61449d7773d9",
   "metadata": {
    "tags": []
   },
   "outputs": [],
   "source": [
    "fig = pygmt.Figure()\n",
    "gmt_projection = \"M15c\"\n",
    "\n",
    "fig.basemap(\n",
    "    region=[\n",
    "        grid.longitude.values.min(),\n",
    "        grid.longitude.values.max(),\n",
    "        grid.latitude.values.min(),\n",
    "        grid.latitude.values.max(),\n",
    "    ],\n",
    "    projection=gmt_projection,\n",
    "    frame=True,\n",
    ")\n",
    "fig.coast(land=\"#666666\", water=\"#b4c8ca\")\n",
    "\n",
    "maxabs = vd.maxabs(grid.velocity_up_mmyr)\n",
    "pygmt.makecpt(cmap=\"polar\", series=[-maxabs, maxabs], no_bg=True)\n",
    "fig.grdimage(\n",
    "    grid=grid.velocity_up_mmyr,\n",
    "    cmap=True,\n",
    "    projection=gmt_projection,\n",
    "    nan_transparent=True,\n",
    "    transparency=15,\n",
    ")\n",
    "\n",
    "frame = 'af+l\"Velocity up [mm/yr]\"'\n",
    "fig.colorbar(frame=frame)\n",
    "fig.show()"
   ]
  }
 ],
 "metadata": {
  "kernelspec": {
   "display_name": "Python [conda env:2023-fatiando-igeba]",
   "language": "python",
   "name": "conda-env-2023-fatiando-igeba-py"
  },
  "language_info": {
   "codemirror_mode": {
    "name": "ipython",
    "version": 3
   },
   "file_extension": ".py",
   "mimetype": "text/x-python",
   "name": "python",
   "nbconvert_exporter": "python",
   "pygments_lexer": "ipython3",
   "version": "3.9.15"
  }
 },
 "nbformat": 4,
 "nbformat_minor": 5
}
